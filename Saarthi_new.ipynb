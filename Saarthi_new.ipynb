{
  "nbformat": 4,
  "nbformat_minor": 0,
  "metadata": {
    "colab": {
      "name": "Saarthi_new.ipynb",
      "provenance": [],
      "collapsed_sections": []
    },
    "kernelspec": {
      "name": "python3",
      "display_name": "Python 3"
    },
    "language_info": {
      "name": "python"
    }
  },
  "cells": [
    {
      "cell_type": "code",
      "metadata": {
        "colab": {
          "base_uri": "https://localhost:8080/"
        },
        "id": "hYBZyOmgREGl",
        "outputId": "103b5512-4377-43a9-97a2-15ed267f438d"
      },
      "source": [
        "import numpy as np\n",
        "import csv\n",
        "import pandas as pd\n",
        "from sklearn.preprocessing import OneHotEncoder, LabelEncoder\n",
        "from keras.models import Sequential\n",
        "from keras.layers import Dense\n",
        "from keras.layers.merge import concatenate\n",
        "from keras.wrappers.scikit_learn import KerasClassifier\n",
        "from sklearn.model_selection import KFold\n",
        "from sklearn.model_selection import cross_val_score\n",
        "from sklearn.feature_extraction.text import TfidfVectorizer\n",
        "import re\n",
        "import scipy\n",
        "from tensorflow import keras\n",
        "from tensorflow.keras import layers\n",
        "import tensorflow as tf\n",
        "from random import shuffle\n",
        "import gc\n",
        "import sklearn\n",
        "\n",
        "import os\n",
        "import codecs\n",
        "\n",
        "import nltk\n",
        "from nltk.corpus import stopwords\n",
        "nltk.download('stopwords')\n",
        "from nltk.stem import SnowballStemmer\n",
        "from string import punctuation\n",
        "\n",
        "from gensim.models import KeyedVectors\n",
        "from keras.preprocessing.text import Tokenizer\n",
        "from keras.preprocessing.sequence import pad_sequences\n",
        "from keras.layers import Dense, Input, LSTM, Embedding, Dropout, Activation\n",
        "from keras.layers.merge import concatenate\n",
        "from keras.models import Model\n",
        "from keras.layers import BatchNormalization\n",
        "from keras.callbacks import EarlyStopping, ModelCheckpoint\n",
        "from sklearn.preprocessing import OneHotEncoder"
      ],
      "execution_count": 74,
      "outputs": [
        {
          "output_type": "stream",
          "name": "stdout",
          "text": [
            "[nltk_data] Downloading package stopwords to /root/nltk_data...\n",
            "[nltk_data]   Package stopwords is already up-to-date!\n"
          ]
        }
      ]
    },
    {
      "cell_type": "code",
      "metadata": {
        "colab": {
          "base_uri": "https://localhost:8080/"
        },
        "id": "iRZsMZJFRQb4",
        "outputId": "9b86eec3-1507-4120-d502-fa710912d2ec"
      },
      "source": [
        "from google.colab import drive\n",
        "drive.mount('/content/drive')"
      ],
      "execution_count": 2,
      "outputs": [
        {
          "output_type": "stream",
          "name": "stdout",
          "text": [
            "Drive already mounted at /content/drive; to attempt to forcibly remount, call drive.mount(\"/content/drive\", force_remount=True).\n"
          ]
        }
      ]
    },
    {
      "cell_type": "code",
      "metadata": {
        "colab": {
          "base_uri": "https://localhost:8080/"
        },
        "id": "-9u0UOXORdG6",
        "outputId": "96446c2c-9dae-49e0-fa85-1a5b8f5f8ea2"
      },
      "source": [
        "%cd drive/MyDrive/task_data/\n",
        "!ls"
      ],
      "execution_count": 3,
      "outputs": [
        {
          "output_type": "stream",
          "name": "stdout",
          "text": [
            "/content/drive/MyDrive/task_data\n",
            "mfcc_13_2048.csv  train_data.csv  valid_data.csv  wavs\n"
          ]
        }
      ]
    },
    {
      "cell_type": "code",
      "metadata": {
        "id": "9kuwDczzYAqP"
      },
      "source": [
        "emd_file = '../amazon/GoogleNews-vectors-negative300.bin'\n",
        "word2vec = KeyedVectors.load_word2vec_format(emd_file, binary=True)\n",
        "stops = set(stopwords.words(\"english\"))\n",
        "w2v_set = set(word2vec.vocab)"
      ],
      "execution_count": 4,
      "outputs": []
    },
    {
      "cell_type": "code",
      "metadata": {
        "colab": {
          "base_uri": "https://localhost:8080/",
          "height": 203
        },
        "id": "d_1N6Uo9RtlG",
        "outputId": "214822d9-dc08-44d9-85f0-d4655a048e3c"
      },
      "source": [
        "df = pd.read_csv('train_data.csv')\n",
        "df.head()"
      ],
      "execution_count": 5,
      "outputs": [
        {
          "output_type": "execute_result",
          "data": {
            "text/html": [
              "<div>\n",
              "<style scoped>\n",
              "    .dataframe tbody tr th:only-of-type {\n",
              "        vertical-align: middle;\n",
              "    }\n",
              "\n",
              "    .dataframe tbody tr th {\n",
              "        vertical-align: top;\n",
              "    }\n",
              "\n",
              "    .dataframe thead th {\n",
              "        text-align: right;\n",
              "    }\n",
              "</style>\n",
              "<table border=\"1\" class=\"dataframe\">\n",
              "  <thead>\n",
              "    <tr style=\"text-align: right;\">\n",
              "      <th></th>\n",
              "      <th>path</th>\n",
              "      <th>transcription</th>\n",
              "      <th>action</th>\n",
              "      <th>object</th>\n",
              "      <th>location</th>\n",
              "    </tr>\n",
              "  </thead>\n",
              "  <tbody>\n",
              "    <tr>\n",
              "      <th>0</th>\n",
              "      <td>wavs/speakers/xRQE5VD7rRHVdyvM/7372ca00-45c4-1...</td>\n",
              "      <td>Turn on the kitchen lights</td>\n",
              "      <td>activate</td>\n",
              "      <td>lights</td>\n",
              "      <td>kitchen</td>\n",
              "    </tr>\n",
              "    <tr>\n",
              "      <th>1</th>\n",
              "      <td>wavs/speakers/R3mexpM2YAtdPbL7/dae28110-44fe-1...</td>\n",
              "      <td>Turn up the temperature</td>\n",
              "      <td>increase</td>\n",
              "      <td>heat</td>\n",
              "      <td>none</td>\n",
              "    </tr>\n",
              "    <tr>\n",
              "      <th>2</th>\n",
              "      <td>wavs/speakers/ZebMRl5Z7dhrPKRD/b55dcfd0-455d-1...</td>\n",
              "      <td>OK now switch the main language to Chinese</td>\n",
              "      <td>change language</td>\n",
              "      <td>Chinese</td>\n",
              "      <td>none</td>\n",
              "    </tr>\n",
              "    <tr>\n",
              "      <th>3</th>\n",
              "      <td>wavs/speakers/ppzZqYxGkESMdA5Az/61c54a20-4476-...</td>\n",
              "      <td>Turn down the bathroom temperature</td>\n",
              "      <td>decrease</td>\n",
              "      <td>heat</td>\n",
              "      <td>washroom</td>\n",
              "    </tr>\n",
              "    <tr>\n",
              "      <th>4</th>\n",
              "      <td>wavs/speakers/zaEBPeMY4NUbDnZy/8ef57ec0-44df-1...</td>\n",
              "      <td>Change the language</td>\n",
              "      <td>change language</td>\n",
              "      <td>none</td>\n",
              "      <td>none</td>\n",
              "    </tr>\n",
              "  </tbody>\n",
              "</table>\n",
              "</div>"
            ],
            "text/plain": [
              "                                                path  ...  location\n",
              "0  wavs/speakers/xRQE5VD7rRHVdyvM/7372ca00-45c4-1...  ...   kitchen\n",
              "1  wavs/speakers/R3mexpM2YAtdPbL7/dae28110-44fe-1...  ...      none\n",
              "2  wavs/speakers/ZebMRl5Z7dhrPKRD/b55dcfd0-455d-1...  ...      none\n",
              "3  wavs/speakers/ppzZqYxGkESMdA5Az/61c54a20-4476-...  ...  washroom\n",
              "4  wavs/speakers/zaEBPeMY4NUbDnZy/8ef57ec0-44df-1...  ...      none\n",
              "\n",
              "[5 rows x 5 columns]"
            ]
          },
          "metadata": {},
          "execution_count": 5
        }
      ]
    },
    {
      "cell_type": "code",
      "metadata": {
        "colab": {
          "base_uri": "https://localhost:8080/",
          "height": 203
        },
        "id": "207mxJ0LBDg_",
        "outputId": "60d53f7a-5fa0-4c4e-d4b7-22e7588542b6"
      },
      "source": [
        "onehot_encoder = OneHotEncoder(sparse=False, dtype='int32')\n",
        "act_oh = onehot_encoder.fit_transform(np.array(df['action']).reshape(-1,1))\n",
        "obj_oh = onehot_encoder.fit_transform(np.array(df['object']).reshape(-1,1))\n",
        "loc_oh = onehot_encoder.fit_transform(np.array(df['location']).reshape(-1,1))\n",
        "df['act_oh'] = list(act_oh)\n",
        "df['obj_oh'] = list(obj_oh)\n",
        "df['loc_oh'] = list(loc_oh)\n",
        "df.head()"
      ],
      "execution_count": 6,
      "outputs": [
        {
          "output_type": "execute_result",
          "data": {
            "text/html": [
              "<div>\n",
              "<style scoped>\n",
              "    .dataframe tbody tr th:only-of-type {\n",
              "        vertical-align: middle;\n",
              "    }\n",
              "\n",
              "    .dataframe tbody tr th {\n",
              "        vertical-align: top;\n",
              "    }\n",
              "\n",
              "    .dataframe thead th {\n",
              "        text-align: right;\n",
              "    }\n",
              "</style>\n",
              "<table border=\"1\" class=\"dataframe\">\n",
              "  <thead>\n",
              "    <tr style=\"text-align: right;\">\n",
              "      <th></th>\n",
              "      <th>path</th>\n",
              "      <th>transcription</th>\n",
              "      <th>action</th>\n",
              "      <th>object</th>\n",
              "      <th>location</th>\n",
              "      <th>act_oh</th>\n",
              "      <th>obj_oh</th>\n",
              "      <th>loc_oh</th>\n",
              "    </tr>\n",
              "  </thead>\n",
              "  <tbody>\n",
              "    <tr>\n",
              "      <th>0</th>\n",
              "      <td>wavs/speakers/xRQE5VD7rRHVdyvM/7372ca00-45c4-1...</td>\n",
              "      <td>Turn on the kitchen lights</td>\n",
              "      <td>activate</td>\n",
              "      <td>lights</td>\n",
              "      <td>kitchen</td>\n",
              "      <td>[1, 0, 0, 0, 0, 0]</td>\n",
              "      <td>[0, 0, 0, 0, 0, 0, 0, 1, 0, 0, 0, 0, 0, 0]</td>\n",
              "      <td>[0, 1, 0, 0]</td>\n",
              "    </tr>\n",
              "    <tr>\n",
              "      <th>1</th>\n",
              "      <td>wavs/speakers/R3mexpM2YAtdPbL7/dae28110-44fe-1...</td>\n",
              "      <td>Turn up the temperature</td>\n",
              "      <td>increase</td>\n",
              "      <td>heat</td>\n",
              "      <td>none</td>\n",
              "      <td>[0, 0, 0, 0, 0, 1]</td>\n",
              "      <td>[0, 0, 0, 0, 1, 0, 0, 0, 0, 0, 0, 0, 0, 0]</td>\n",
              "      <td>[0, 0, 1, 0]</td>\n",
              "    </tr>\n",
              "    <tr>\n",
              "      <th>2</th>\n",
              "      <td>wavs/speakers/ZebMRl5Z7dhrPKRD/b55dcfd0-455d-1...</td>\n",
              "      <td>OK now switch the main language to Chinese</td>\n",
              "      <td>change language</td>\n",
              "      <td>Chinese</td>\n",
              "      <td>none</td>\n",
              "      <td>[0, 0, 1, 0, 0, 0]</td>\n",
              "      <td>[1, 0, 0, 0, 0, 0, 0, 0, 0, 0, 0, 0, 0, 0]</td>\n",
              "      <td>[0, 0, 1, 0]</td>\n",
              "    </tr>\n",
              "    <tr>\n",
              "      <th>3</th>\n",
              "      <td>wavs/speakers/ppzZqYxGkESMdA5Az/61c54a20-4476-...</td>\n",
              "      <td>Turn down the bathroom temperature</td>\n",
              "      <td>decrease</td>\n",
              "      <td>heat</td>\n",
              "      <td>washroom</td>\n",
              "      <td>[0, 0, 0, 0, 1, 0]</td>\n",
              "      <td>[0, 0, 0, 0, 1, 0, 0, 0, 0, 0, 0, 0, 0, 0]</td>\n",
              "      <td>[0, 0, 0, 1]</td>\n",
              "    </tr>\n",
              "    <tr>\n",
              "      <th>4</th>\n",
              "      <td>wavs/speakers/zaEBPeMY4NUbDnZy/8ef57ec0-44df-1...</td>\n",
              "      <td>Change the language</td>\n",
              "      <td>change language</td>\n",
              "      <td>none</td>\n",
              "      <td>none</td>\n",
              "      <td>[0, 0, 1, 0, 0, 0]</td>\n",
              "      <td>[0, 0, 0, 0, 0, 0, 0, 0, 0, 0, 1, 0, 0, 0]</td>\n",
              "      <td>[0, 0, 1, 0]</td>\n",
              "    </tr>\n",
              "  </tbody>\n",
              "</table>\n",
              "</div>"
            ],
            "text/plain": [
              "                                                path  ...        loc_oh\n",
              "0  wavs/speakers/xRQE5VD7rRHVdyvM/7372ca00-45c4-1...  ...  [0, 1, 0, 0]\n",
              "1  wavs/speakers/R3mexpM2YAtdPbL7/dae28110-44fe-1...  ...  [0, 0, 1, 0]\n",
              "2  wavs/speakers/ZebMRl5Z7dhrPKRD/b55dcfd0-455d-1...  ...  [0, 0, 1, 0]\n",
              "3  wavs/speakers/ppzZqYxGkESMdA5Az/61c54a20-4476-...  ...  [0, 0, 0, 1]\n",
              "4  wavs/speakers/zaEBPeMY4NUbDnZy/8ef57ec0-44df-1...  ...  [0, 0, 1, 0]\n",
              "\n",
              "[5 rows x 8 columns]"
            ]
          },
          "metadata": {},
          "execution_count": 6
        }
      ]
    },
    {
      "cell_type": "code",
      "metadata": {
        "colab": {
          "base_uri": "https://localhost:8080/",
          "height": 287
        },
        "id": "Cdo74SiGO0Hf",
        "outputId": "d36bf81d-1e2c-4190-fd01-64940fe1104e"
      },
      "source": [
        "df['class']=df['act_oh']\n",
        "for i in range(len(df)):\n",
        "  df['class'].iloc[i]= np.array(list(df['act_oh'].iloc[i])+list(df['obj_oh'].iloc[i])+list(df['loc_oh'].iloc[i])).reshape(1,-1).astype('float32')[0]\n",
        "df.head()"
      ],
      "execution_count": 59,
      "outputs": [
        {
          "output_type": "execute_result",
          "data": {
            "text/html": [
              "<div>\n",
              "<style scoped>\n",
              "    .dataframe tbody tr th:only-of-type {\n",
              "        vertical-align: middle;\n",
              "    }\n",
              "\n",
              "    .dataframe tbody tr th {\n",
              "        vertical-align: top;\n",
              "    }\n",
              "\n",
              "    .dataframe thead th {\n",
              "        text-align: right;\n",
              "    }\n",
              "</style>\n",
              "<table border=\"1\" class=\"dataframe\">\n",
              "  <thead>\n",
              "    <tr style=\"text-align: right;\">\n",
              "      <th></th>\n",
              "      <th>path</th>\n",
              "      <th>transcription</th>\n",
              "      <th>action</th>\n",
              "      <th>object</th>\n",
              "      <th>location</th>\n",
              "      <th>act_oh</th>\n",
              "      <th>obj_oh</th>\n",
              "      <th>loc_oh</th>\n",
              "      <th>class</th>\n",
              "    </tr>\n",
              "  </thead>\n",
              "  <tbody>\n",
              "    <tr>\n",
              "      <th>0</th>\n",
              "      <td>wavs/speakers/xRQE5VD7rRHVdyvM/7372ca00-45c4-1...</td>\n",
              "      <td>Turn on the kitchen lights</td>\n",
              "      <td>activate</td>\n",
              "      <td>lights</td>\n",
              "      <td>kitchen</td>\n",
              "      <td>[1, 0, 0, 0, 0, 0]</td>\n",
              "      <td>[0, 0, 0, 0, 0, 0, 0, 1, 0, 0, 0, 0, 0, 0]</td>\n",
              "      <td>[0, 1, 0, 0]</td>\n",
              "      <td>[1.0, 0.0, 0.0, 0.0, 0.0, 0.0, 0.0, 0.0, 0.0, ...</td>\n",
              "    </tr>\n",
              "    <tr>\n",
              "      <th>1</th>\n",
              "      <td>wavs/speakers/R3mexpM2YAtdPbL7/dae28110-44fe-1...</td>\n",
              "      <td>Turn up the temperature</td>\n",
              "      <td>increase</td>\n",
              "      <td>heat</td>\n",
              "      <td>none</td>\n",
              "      <td>[0, 0, 0, 0, 0, 1]</td>\n",
              "      <td>[0, 0, 0, 0, 1, 0, 0, 0, 0, 0, 0, 0, 0, 0]</td>\n",
              "      <td>[0, 0, 1, 0]</td>\n",
              "      <td>[0.0, 0.0, 0.0, 0.0, 0.0, 1.0, 0.0, 0.0, 0.0, ...</td>\n",
              "    </tr>\n",
              "    <tr>\n",
              "      <th>2</th>\n",
              "      <td>wavs/speakers/ZebMRl5Z7dhrPKRD/b55dcfd0-455d-1...</td>\n",
              "      <td>OK now switch the main language to Chinese</td>\n",
              "      <td>change language</td>\n",
              "      <td>Chinese</td>\n",
              "      <td>none</td>\n",
              "      <td>[0, 0, 1, 0, 0, 0]</td>\n",
              "      <td>[1, 0, 0, 0, 0, 0, 0, 0, 0, 0, 0, 0, 0, 0]</td>\n",
              "      <td>[0, 0, 1, 0]</td>\n",
              "      <td>[0.0, 0.0, 1.0, 0.0, 0.0, 0.0, 1.0, 0.0, 0.0, ...</td>\n",
              "    </tr>\n",
              "    <tr>\n",
              "      <th>3</th>\n",
              "      <td>wavs/speakers/ppzZqYxGkESMdA5Az/61c54a20-4476-...</td>\n",
              "      <td>Turn down the bathroom temperature</td>\n",
              "      <td>decrease</td>\n",
              "      <td>heat</td>\n",
              "      <td>washroom</td>\n",
              "      <td>[0, 0, 0, 0, 1, 0]</td>\n",
              "      <td>[0, 0, 0, 0, 1, 0, 0, 0, 0, 0, 0, 0, 0, 0]</td>\n",
              "      <td>[0, 0, 0, 1]</td>\n",
              "      <td>[0.0, 0.0, 0.0, 0.0, 1.0, 0.0, 0.0, 0.0, 0.0, ...</td>\n",
              "    </tr>\n",
              "    <tr>\n",
              "      <th>4</th>\n",
              "      <td>wavs/speakers/zaEBPeMY4NUbDnZy/8ef57ec0-44df-1...</td>\n",
              "      <td>Change the language</td>\n",
              "      <td>change language</td>\n",
              "      <td>none</td>\n",
              "      <td>none</td>\n",
              "      <td>[0, 0, 1, 0, 0, 0]</td>\n",
              "      <td>[0, 0, 0, 0, 0, 0, 0, 0, 0, 0, 1, 0, 0, 0]</td>\n",
              "      <td>[0, 0, 1, 0]</td>\n",
              "      <td>[0.0, 0.0, 1.0, 0.0, 0.0, 0.0, 0.0, 0.0, 0.0, ...</td>\n",
              "    </tr>\n",
              "  </tbody>\n",
              "</table>\n",
              "</div>"
            ],
            "text/plain": [
              "                                                path  ...                                              class\n",
              "0  wavs/speakers/xRQE5VD7rRHVdyvM/7372ca00-45c4-1...  ...  [1.0, 0.0, 0.0, 0.0, 0.0, 0.0, 0.0, 0.0, 0.0, ...\n",
              "1  wavs/speakers/R3mexpM2YAtdPbL7/dae28110-44fe-1...  ...  [0.0, 0.0, 0.0, 0.0, 0.0, 1.0, 0.0, 0.0, 0.0, ...\n",
              "2  wavs/speakers/ZebMRl5Z7dhrPKRD/b55dcfd0-455d-1...  ...  [0.0, 0.0, 1.0, 0.0, 0.0, 0.0, 1.0, 0.0, 0.0, ...\n",
              "3  wavs/speakers/ppzZqYxGkESMdA5Az/61c54a20-4476-...  ...  [0.0, 0.0, 0.0, 0.0, 1.0, 0.0, 0.0, 0.0, 0.0, ...\n",
              "4  wavs/speakers/zaEBPeMY4NUbDnZy/8ef57ec0-44df-1...  ...  [0.0, 0.0, 1.0, 0.0, 0.0, 0.0, 0.0, 0.0, 0.0, ...\n",
              "\n",
              "[5 rows x 9 columns]"
            ]
          },
          "metadata": {},
          "execution_count": 59
        }
      ]
    },
    {
      "cell_type": "code",
      "metadata": {
        "colab": {
          "base_uri": "https://localhost:8080/"
        },
        "id": "NlxmjoHTF2fX",
        "outputId": "58b21a4c-5424-4822-f28e-89068d8268f1"
      },
      "source": [
        "#pre pos\n",
        "tokenizer = Tokenizer()\n",
        "tokenizer.fit_on_texts(df['transcription'])\n",
        "print(len(tokenizer.word_index))"
      ],
      "execution_count": 7,
      "outputs": [
        {
          "output_type": "stream",
          "name": "stdout",
          "text": [
            "98\n"
          ]
        }
      ]
    },
    {
      "cell_type": "code",
      "metadata": {
        "colab": {
          "base_uri": "https://localhost:8080/"
        },
        "id": "28SgsO6iG8DQ",
        "outputId": "07b26a5b-07a1-4bff-80cd-04710bd05590"
      },
      "source": [
        "EMBEDDING_DIM= 300\n",
        "nb_words = len(tokenizer.word_index)+1\n",
        "embedding_matrix = np.zeros((nb_words, EMBEDDING_DIM))\n",
        "for word, i in tokenizer.word_index.items():\n",
        "  if word in w2v_set:\n",
        "    embedding_matrix[i] = word2vec.word_vec(word)\n",
        "    # print(embedding_matrix[i].shape)\n",
        "  else:\n",
        "    embedding_matrix[i] = np.zeros(EMBEDDING_DIM,)\n",
        "print('Null word embeddings: %d' % np.sum(np.sum(embedding_matrix, axis=1) == 0))\n",
        "print(embedding_matrix.shape)"
      ],
      "execution_count": 9,
      "outputs": [
        {
          "output_type": "stream",
          "name": "stdout",
          "text": [
            "Null word embeddings: 6\n",
            "(99, 300)\n"
          ]
        }
      ]
    },
    {
      "cell_type": "code",
      "metadata": {
        "colab": {
          "base_uri": "https://localhost:8080/"
        },
        "id": "LaEOruSgHlHe",
        "outputId": "a2cf3569-b710-44b5-8224-067dad667694"
      },
      "source": [
        "max(df['transcription'].apply(lambda x: len(x.split())))"
      ],
      "execution_count": 85,
      "outputs": [
        {
          "output_type": "execute_result",
          "data": {
            "text/plain": [
              "10"
            ]
          },
          "metadata": {},
          "execution_count": 85
        }
      ]
    },
    {
      "cell_type": "code",
      "metadata": {
        "id": "TLFaIfoPJ8ut"
      },
      "source": [
        "data = tokenizer.texts_to_sequences(df['transcription'].values)\n",
        "data = pad_sequences(data, maxlen=10)"
      ],
      "execution_count": 11,
      "outputs": []
    },
    {
      "cell_type": "code",
      "metadata": {
        "colab": {
          "base_uri": "https://localhost:8080/"
        },
        "id": "q-O_F1f5Fz2H",
        "outputId": "e95c56a9-4d72-45eb-cae5-d494fe647feb"
      },
      "source": [
        "X = data\n",
        "Y = pd.DataFrame()\n",
        "\n",
        "for i in range(23):\n",
        "  Y[i+1]=df['class'].apply(lambda x: int(x[i]))\n",
        "\n",
        "print(Y)\n",
        "\n",
        "VALIDATION_SPLIT = 0.15\n",
        "perm = np.random.permutation(len(X))\n",
        "idx_train = perm[:int(len(X)*(1-VALIDATION_SPLIT))]\n",
        "idx_val = perm[int(len(X)*(1-VALIDATION_SPLIT)):]\n",
        "print(len(idx_train), len(idx_val))\n",
        "\n",
        "X_train = X[idx_train]\n",
        "X_val = X[idx_val]\n",
        "Y_train = Y.iloc[idx_train,:]\n",
        "Y_val = Y.iloc[idx_val,:]\n",
        "\n",
        "print(X_train.shape, X_val.shape)\n",
        "print(Y_train.shape, Y_val.shape)"
      ],
      "execution_count": 64,
      "outputs": [
        {
          "output_type": "stream",
          "name": "stdout",
          "text": [
            "       1   2   3   4   5   6   7   8   9   ...  15  16  17  18  19  20  21  22  23\n",
            "0       1   0   0   0   0   0   0   0   0  ...   0   0   0   0   0   0   0   1   0\n",
            "1       0   0   0   0   0   1   0   0   0  ...   0   0   0   0   0   0   0   0   1\n",
            "2       0   0   1   0   0   0   1   0   0  ...   0   0   0   0   0   0   0   0   1\n",
            "3       0   0   0   0   1   0   0   0   0  ...   0   0   0   0   0   0   0   0   0\n",
            "4       0   0   1   0   0   0   0   0   0  ...   0   0   1   0   0   0   0   0   1\n",
            "...    ..  ..  ..  ..  ..  ..  ..  ..  ..  ...  ..  ..  ..  ..  ..  ..  ..  ..  ..\n",
            "11561   0   0   0   0   0   1   0   0   0  ...   0   0   0   0   0   0   0   1   0\n",
            "11562   0   0   0   0   0   1   0   0   0  ...   0   0   0   0   0   0   0   0   1\n",
            "11563   0   1   0   0   0   0   0   0   0  ...   0   0   0   1   0   0   0   0   1\n",
            "11564   0   0   0   0   1   0   0   0   0  ...   0   0   0   0   0   1   0   0   1\n",
            "11565   0   0   0   1   0   0   0   0   0  ...   0   0   0   0   0   0   0   1   0\n",
            "\n",
            "[11566 rows x 23 columns]\n",
            "9831 1735\n",
            "(9831, 10) (1735, 10)\n",
            "(9831, 23) (1735, 23)\n"
          ]
        }
      ]
    },
    {
      "cell_type": "code",
      "metadata": {
        "colab": {
          "base_uri": "https://localhost:8080/"
        },
        "id": "kAuBAsMMMrTh",
        "outputId": "7f2e06ce-cae5-4f5a-edd5-76a26195cd6f"
      },
      "source": [
        "#Model\n",
        "embedding_layer = Embedding(nb_words,\n",
        "        EMBEDDING_DIM,\n",
        "        weights=[embedding_matrix],\n",
        "        input_length=10,\n",
        "        trainable=False)\n",
        "\n",
        "lstm_layer_1 = LSTM(20, return_sequences=False, dropout=0.15, recurrent_dropout=0.15)\n",
        "#lstm_layer_2 = LSTM(200, return_sequences=False, dropout=0.15, recurrent_dropout=0.15)\n",
        "\n",
        "sequence_input = Input(shape=(10,), dtype='int32')\n",
        "x1 = embedding_layer(sequence_input)\n",
        "x1 = lstm_layer_1(x1)\n",
        "#x1 = lstm_layer_2(x1)\n",
        "x1 = Dropout(0.10)(x1)\n",
        "x1 = BatchNormalization()(x1)\n",
        "x1 = Dense(50, activation='relu')(x1)\n",
        "x1 = Dropout(0.10)(x1)\n",
        "x1 = BatchNormalization()(x1)\n",
        "preds = Dense(23, activation='sigmoid')(x1)\n",
        "\n",
        "model = Model(inputs=sequence_input, outputs=preds)\n",
        "print(model.summary())"
      ],
      "execution_count": 20,
      "outputs": [
        {
          "output_type": "stream",
          "name": "stdout",
          "text": [
            "Model: \"model\"\n",
            "_________________________________________________________________\n",
            " Layer (type)                Output Shape              Param #   \n",
            "=================================================================\n",
            " input_1 (InputLayer)        [(None, 10)]              0         \n",
            "                                                                 \n",
            " embedding (Embedding)       (None, 10, 300)           29700     \n",
            "                                                                 \n",
            " lstm (LSTM)                 (None, 20)                25680     \n",
            "                                                                 \n",
            " dropout (Dropout)           (None, 20)                0         \n",
            "                                                                 \n",
            " batch_normalization (BatchN  (None, 20)               80        \n",
            " ormalization)                                                   \n",
            "                                                                 \n",
            " dense (Dense)               (None, 50)                1050      \n",
            "                                                                 \n",
            " dropout_1 (Dropout)         (None, 50)                0         \n",
            "                                                                 \n",
            " batch_normalization_1 (Batc  (None, 50)               200       \n",
            " hNormalization)                                                 \n",
            "                                                                 \n",
            " dense_1 (Dense)             (None, 23)                1173      \n",
            "                                                                 \n",
            "=================================================================\n",
            "Total params: 57,883\n",
            "Trainable params: 28,043\n",
            "Non-trainable params: 29,840\n",
            "_________________________________________________________________\n",
            "None\n"
          ]
        }
      ]
    },
    {
      "cell_type": "code",
      "metadata": {
        "id": "s2TUAR1mNfnN"
      },
      "source": [
        "# Y_train = tf.convert_to_tensor(Y_train)\n",
        "train_dataset = tf.data.Dataset.from_tensor_slices((X_train, Y_train))\n",
        "val_dataset = tf.data.Dataset.from_tensor_slices((X_val, Y_val))\n",
        "\n",
        "loss_fn = tf.keras.losses.MeanAbsoluteError()\n",
        "optimizer = tf.keras.optimizers.Adam(learning_rate=1e-3)\n",
        "train_acc_metric = tf.keras.losses.MeanAbsoluteError()\n",
        "val_acc_metric = sklearn.metrics.f1_score"
      ],
      "execution_count": 82,
      "outputs": []
    },
    {
      "cell_type": "code",
      "metadata": {
        "id": "P1j9iSiNQbUK"
      },
      "source": [
        "model.compile(optimizer=optimizer, loss=loss_fn, metrics=train_acc_metric)"
      ],
      "execution_count": 83,
      "outputs": []
    },
    {
      "cell_type": "code",
      "metadata": {
        "colab": {
          "base_uri": "https://localhost:8080/"
        },
        "id": "X5-5m9ViV9my",
        "outputId": "be76200d-ab6c-46b4-e08f-6ed9e72482e9"
      },
      "source": [
        "model.fit(X_train, Y_train, batch_size=1024, epochs=10, validation_data=(X_val, Y_val), use_multiprocessing=True)"
      ],
      "execution_count": 84,
      "outputs": [
        {
          "output_type": "stream",
          "name": "stdout",
          "text": [
            "Epoch 1/10\n",
            "10/10 [==============================] - 31s 248ms/step - loss: 0.0053 - mean_absolute_error: 0.0053 - val_loss: 0.0050 - val_mean_absolute_error: 0.0049\n",
            "Epoch 2/10\n",
            "10/10 [==============================] - 2s 206ms/step - loss: 0.0053 - mean_absolute_error: 0.0053 - val_loss: 0.0050 - val_mean_absolute_error: 0.0049\n",
            "Epoch 3/10\n",
            "10/10 [==============================] - 2s 210ms/step - loss: 0.0052 - mean_absolute_error: 0.0052 - val_loss: 0.0050 - val_mean_absolute_error: 0.0049\n",
            "Epoch 4/10\n",
            "10/10 [==============================] - 2s 209ms/step - loss: 0.0052 - mean_absolute_error: 0.0052 - val_loss: 0.0050 - val_mean_absolute_error: 0.0049\n",
            "Epoch 5/10\n",
            "10/10 [==============================] - 2s 207ms/step - loss: 0.0053 - mean_absolute_error: 0.0053 - val_loss: 0.0050 - val_mean_absolute_error: 0.0049\n",
            "Epoch 6/10\n",
            "10/10 [==============================] - 2s 211ms/step - loss: 0.0052 - mean_absolute_error: 0.0052 - val_loss: 0.0050 - val_mean_absolute_error: 0.0049\n",
            "Epoch 7/10\n",
            "10/10 [==============================] - 2s 212ms/step - loss: 0.0052 - mean_absolute_error: 0.0052 - val_loss: 0.0050 - val_mean_absolute_error: 0.0049\n",
            "Epoch 8/10\n",
            "10/10 [==============================] - 2s 213ms/step - loss: 0.0052 - mean_absolute_error: 0.0053 - val_loss: 0.0050 - val_mean_absolute_error: 0.0049\n",
            "Epoch 9/10\n",
            "10/10 [==============================] - 2s 213ms/step - loss: 0.0052 - mean_absolute_error: 0.0052 - val_loss: 0.0050 - val_mean_absolute_error: 0.0049\n",
            "Epoch 10/10\n",
            "10/10 [==============================] - 2s 212ms/step - loss: 0.0052 - mean_absolute_error: 0.0052 - val_loss: 0.0050 - val_mean_absolute_error: 0.0049\n"
          ]
        },
        {
          "output_type": "execute_result",
          "data": {
            "text/plain": [
              "<keras.callbacks.History at 0x7f65e0eb8f10>"
            ]
          },
          "metadata": {},
          "execution_count": 84
        }
      ]
    },
    {
      "cell_type": "code",
      "metadata": {
        "id": "9B2FKTYSdwIR"
      },
      "source": [
        "# Test Script\n",
        "text = input()\n",
        "df= pd.read_csv(text)\n",
        "\n",
        "tokenizer = Tokenizer()\n",
        "tokenizer.fit_on_texts(df['transcription'])\n",
        "\n",
        "max_len = max(df['transcription'].apply(lambda x: len(x.split())))\n",
        "data = tokenizer.texts_to_sequences(df['transcription'].values)\n",
        "data = pad_sequences(data, maxlen=max_len)\n",
        "\n",
        "preds = model.predict(data)\n",
        "ans = pd.DataFrame\n"
      ],
      "execution_count": null,
      "outputs": []
    }
  ]
}